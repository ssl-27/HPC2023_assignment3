{
 "cells": [
  {
   "cell_type": "markdown",
   "id": "mental-nightlife",
   "metadata": {
    "id": "ejt13p7tAD5V"
   },
   "source": [
    "# **import packages**"
   ]
  },
  {
   "cell_type": "code",
   "execution_count": 1,
   "id": "internal-familiar",
   "metadata": {},
   "outputs": [],
   "source": [
    "import numpy as np\n",
    "import pandas as pd\n",
    "import matplotlib.pyplot as plt\n",
    "from sklearn.preprocessing import MinMaxScaler\n",
    "from sklearn.preprocessing import Normalizer\n",
    "from sklearn.preprocessing import MaxAbsScaler\n",
    "from sklearn.model_selection import train_test_split\n",
    "from sklearn.preprocessing import StandardScaler\n",
    "from datetime import datetime\n",
    "from sklearn.metrics import r2_score\n",
    "from sklearn import metrics\n",
    "import keras\n",
    "import tensorflow\n",
    "from tensorflow.keras.layers import LSTM,Bidirectional\n",
    "from tensorflow.python.client import device_lib"
   ]
  },
  {
   "cell_type": "code",
   "execution_count": 2,
   "id": "naughty-twins",
   "metadata": {},
   "outputs": [
    {
     "name": "stdout",
     "output_type": "stream",
     "text": [
      "Tue Mar  7 16:35:44 2023       \n",
      "+-----------------------------------------------------------------------------+\n",
      "| NVIDIA-SMI 525.85.12    Driver Version: 525.85.12    CUDA Version: 12.0     |\n",
      "|-------------------------------+----------------------+----------------------+\n",
      "| GPU  Name        Persistence-M| Bus-Id        Disp.A | Volatile Uncorr. ECC |\n",
      "| Fan  Temp  Perf  Pwr:Usage/Cap|         Memory-Usage | GPU-Util  Compute M. |\n",
      "|                               |                      |               MIG M. |\n",
      "|===============================+======================+======================|\n",
      "|   0  NVIDIA A100-SXM...  On   | 00000000:03:00.0 Off |                    0 |\n",
      "| N/A   46C    P0    65W / 400W |      0MiB / 40960MiB |      0%      Default |\n",
      "|                               |                      |             Disabled |\n",
      "+-------------------------------+----------------------+----------------------+\n",
      "|   1  NVIDIA A100-SXM...  On   | 00000000:44:00.0 Off |                    0 |\n",
      "| N/A   44C    P0    60W / 400W |      0MiB / 40960MiB |      0%      Default |\n",
      "|                               |                      |             Disabled |\n",
      "+-------------------------------+----------------------+----------------------+\n",
      "|   2  NVIDIA A100-SXM...  On   | 00000000:84:00.0 Off |                    0 |\n",
      "| N/A   45C    P0    56W / 400W |      0MiB / 40960MiB |      0%      Default |\n",
      "|                               |                      |             Disabled |\n",
      "+-------------------------------+----------------------+----------------------+\n",
      "|   3  NVIDIA A100-SXM...  On   | 00000000:C4:00.0 Off |                    0 |\n",
      "| N/A   45C    P0    58W / 400W |      0MiB / 40960MiB |      0%      Default |\n",
      "|                               |                      |             Disabled |\n",
      "+-------------------------------+----------------------+----------------------+\n",
      "                                                                               \n",
      "+-----------------------------------------------------------------------------+\n",
      "| Processes:                                                                  |\n",
      "|  GPU   GI   CI        PID   Type   Process name                  GPU Memory |\n",
      "|        ID   ID                                                   Usage      |\n",
      "|=============================================================================|\n",
      "|  No running processes found                                                 |\n",
      "+-----------------------------------------------------------------------------+\n"
     ]
    }
   ],
   "source": [
    "!nvidia-smi"
   ]
  },
  {
   "cell_type": "code",
   "execution_count": 3,
   "id": "settled-architecture",
   "metadata": {},
   "outputs": [
    {
     "data": {
      "text/plain": [
       "[PhysicalDevice(name='/physical_device:GPU:0', device_type='GPU'),\n",
       " PhysicalDevice(name='/physical_device:GPU:1', device_type='GPU'),\n",
       " PhysicalDevice(name='/physical_device:GPU:2', device_type='GPU'),\n",
       " PhysicalDevice(name='/physical_device:GPU:3', device_type='GPU')]"
      ]
     },
     "execution_count": 3,
     "metadata": {},
     "output_type": "execute_result"
    }
   ],
   "source": [
    "tensorflow.config.list_physical_devices('GPU')"
   ]
  },
  {
   "cell_type": "code",
   "execution_count": 4,
   "id": "light-official",
   "metadata": {},
   "outputs": [
    {
     "name": "stderr",
     "output_type": "stream",
     "text": [
      "2023-03-06 10:36:46.914050: I tensorflow/core/common_runtime/gpu/gpu_device.cc:1510] Created device /device:GPU:0 with 38284 MB memory:  -> device: 0, name: NVIDIA A100-SXM4-40GB, pci bus id: 0000:03:00.0, compute capability: 8.0\n",
      "2023-03-06 10:36:46.915920: I tensorflow/core/common_runtime/gpu/gpu_device.cc:1510] Created device /device:GPU:1 with 38284 MB memory:  -> device: 1, name: NVIDIA A100-SXM4-40GB, pci bus id: 0000:44:00.0, compute capability: 8.0\n",
      "2023-03-06 10:36:46.917712: I tensorflow/core/common_runtime/gpu/gpu_device.cc:1510] Created device /device:GPU:2 with 38284 MB memory:  -> device: 2, name: NVIDIA A100-SXM4-40GB, pci bus id: 0000:84:00.0, compute capability: 8.0\n",
      "2023-03-06 10:36:46.919330: I tensorflow/core/common_runtime/gpu/gpu_device.cc:1510] Created device /device:GPU:3 with 38284 MB memory:  -> device: 3, name: NVIDIA A100-SXM4-40GB, pci bus id: 0000:c4:00.0, compute capability: 8.0\n"
     ]
    },
    {
     "data": {
      "text/plain": [
       "[name: \"/device:CPU:0\"\n",
       " device_type: \"CPU\"\n",
       " memory_limit: 268435456\n",
       " locality {\n",
       " }\n",
       " incarnation: 6462948310197892416,\n",
       " name: \"/device:GPU:0\"\n",
       " device_type: \"GPU\"\n",
       " memory_limit: 40144207872\n",
       " locality {\n",
       "   bus_id: 4\n",
       "   numa_node: 3\n",
       "   links {\n",
       "     link {\n",
       "       device_id: 1\n",
       "       type: \"StreamExecutor\"\n",
       "       strength: 1\n",
       "     }\n",
       "     link {\n",
       "       device_id: 2\n",
       "       type: \"StreamExecutor\"\n",
       "       strength: 1\n",
       "     }\n",
       "     link {\n",
       "       device_id: 3\n",
       "       type: \"StreamExecutor\"\n",
       "       strength: 1\n",
       "     }\n",
       "   }\n",
       " }\n",
       " incarnation: 15397283205426891799\n",
       " physical_device_desc: \"device: 0, name: NVIDIA A100-SXM4-40GB, pci bus id: 0000:03:00.0, compute capability: 8.0\",\n",
       " name: \"/device:GPU:1\"\n",
       " device_type: \"GPU\"\n",
       " memory_limit: 40144207872\n",
       " locality {\n",
       "   bus_id: 2\n",
       "   numa_node: 1\n",
       "   links {\n",
       "     link {\n",
       "       type: \"StreamExecutor\"\n",
       "       strength: 1\n",
       "     }\n",
       "     link {\n",
       "       device_id: 2\n",
       "       type: \"StreamExecutor\"\n",
       "       strength: 1\n",
       "     }\n",
       "     link {\n",
       "       device_id: 3\n",
       "       type: \"StreamExecutor\"\n",
       "       strength: 1\n",
       "     }\n",
       "   }\n",
       " }\n",
       " incarnation: 8138220654923111091\n",
       " physical_device_desc: \"device: 1, name: NVIDIA A100-SXM4-40GB, pci bus id: 0000:44:00.0, compute capability: 8.0\",\n",
       " name: \"/device:GPU:2\"\n",
       " device_type: \"GPU\"\n",
       " memory_limit: 40144207872\n",
       " locality {\n",
       "   bus_id: 8\n",
       "   numa_node: 7\n",
       "   links {\n",
       "     link {\n",
       "       type: \"StreamExecutor\"\n",
       "       strength: 1\n",
       "     }\n",
       "     link {\n",
       "       device_id: 1\n",
       "       type: \"StreamExecutor\"\n",
       "       strength: 1\n",
       "     }\n",
       "     link {\n",
       "       device_id: 3\n",
       "       type: \"StreamExecutor\"\n",
       "       strength: 1\n",
       "     }\n",
       "   }\n",
       " }\n",
       " incarnation: 11738130912657461442\n",
       " physical_device_desc: \"device: 2, name: NVIDIA A100-SXM4-40GB, pci bus id: 0000:84:00.0, compute capability: 8.0\",\n",
       " name: \"/device:GPU:3\"\n",
       " device_type: \"GPU\"\n",
       " memory_limit: 40144207872\n",
       " locality {\n",
       "   bus_id: 6\n",
       "   numa_node: 5\n",
       "   links {\n",
       "     link {\n",
       "       type: \"StreamExecutor\"\n",
       "       strength: 1\n",
       "     }\n",
       "     link {\n",
       "       device_id: 1\n",
       "       type: \"StreamExecutor\"\n",
       "       strength: 1\n",
       "     }\n",
       "     link {\n",
       "       device_id: 2\n",
       "       type: \"StreamExecutor\"\n",
       "       strength: 1\n",
       "     }\n",
       "   }\n",
       " }\n",
       " incarnation: 6825685701241522914\n",
       " physical_device_desc: \"device: 3, name: NVIDIA A100-SXM4-40GB, pci bus id: 0000:c4:00.0, compute capability: 8.0\"]"
      ]
     },
     "execution_count": 4,
     "metadata": {},
     "output_type": "execute_result"
    }
   ],
   "source": [
    "device_lib.list_local_devices()"
   ]
  },
  {
   "cell_type": "markdown",
   "id": "continuing-knowing",
   "metadata": {
    "id": "j24e7QMiAHtF"
   },
   "source": [
    "# **read data**"
   ]
  },
  {
   "cell_type": "code",
   "execution_count": 4,
   "id": "crucial-minister",
   "metadata": {},
   "outputs": [
    {
     "data": {
      "text/plain": [
       "(2862119, 2)"
      ]
     },
     "execution_count": 4,
     "metadata": {},
     "output_type": "execute_result"
    }
   ],
   "source": [
    "input_data=pd.read_csv(\"flow1.csv\",header=0)\n",
    "data=input_data\n",
    "input_data.head()\n",
    "data.shape"
   ]
  },
  {
   "cell_type": "markdown",
   "id": "pressed-neighborhood",
   "metadata": {
    "id": "EyXaSEJbRniy"
   },
   "source": [
    "# **drop unnecessary columns**"
   ]
  },
  {
   "cell_type": "code",
   "execution_count": 5,
   "id": "conditional-frost",
   "metadata": {},
   "outputs": [
    {
     "data": {
      "text/html": [
       "<div>\n",
       "<style scoped>\n",
       "    .dataframe tbody tr th:only-of-type {\n",
       "        vertical-align: middle;\n",
       "    }\n",
       "\n",
       "    .dataframe tbody tr th {\n",
       "        vertical-align: top;\n",
       "    }\n",
       "\n",
       "    .dataframe thead th {\n",
       "        text-align: right;\n",
       "    }\n",
       "</style>\n",
       "<table border=\"1\" class=\"dataframe\">\n",
       "  <thead>\n",
       "    <tr style=\"text-align: right;\">\n",
       "      <th></th>\n",
       "      <th>v</th>\n",
       "    </tr>\n",
       "  </thead>\n",
       "  <tbody>\n",
       "    <tr>\n",
       "      <th>0</th>\n",
       "      <td>0.008776</td>\n",
       "    </tr>\n",
       "    <tr>\n",
       "      <th>1</th>\n",
       "      <td>0.008725</td>\n",
       "    </tr>\n",
       "    <tr>\n",
       "      <th>2</th>\n",
       "      <td>0.008660</td>\n",
       "    </tr>\n",
       "    <tr>\n",
       "      <th>3</th>\n",
       "      <td>0.008581</td>\n",
       "    </tr>\n",
       "    <tr>\n",
       "      <th>4</th>\n",
       "      <td>-0.009265</td>\n",
       "    </tr>\n",
       "  </tbody>\n",
       "</table>\n",
       "</div>"
      ],
      "text/plain": [
       "          v\n",
       "0  0.008776\n",
       "1  0.008725\n",
       "2  0.008660\n",
       "3  0.008581\n",
       "4 -0.009265"
      ]
     },
     "execution_count": 5,
     "metadata": {},
     "output_type": "execute_result"
    }
   ],
   "source": [
    "data.drop(\"Time\",axis=1,inplace=True)\n",
    "data.head()"
   ]
  },
  {
   "cell_type": "markdown",
   "id": "departmental-circulation",
   "metadata": {
    "id": "LJAipsMJBWLb"
   },
   "source": [
    "# **preprocess data**"
   ]
  },
  {
   "cell_type": "code",
   "execution_count": 6,
   "id": "numeric-sheriff",
   "metadata": {},
   "outputs": [
    {
     "name": "stdout",
     "output_type": "stream",
     "text": [
      "label shape (2862119,)\n",
      "data shape (2862119, 1)\n"
     ]
    }
   ],
   "source": [
    "data_np=np.array(data)\n",
    "scaler = MinMaxScaler()\n",
    "scaler.fit(data_np)\n",
    "all_data_normalized=scaler.transform(data_np)\n",
    "\n",
    "#drop label\n",
    "lbl_normalized=all_data_normalized[:,-1]\n",
    "data_normalized=all_data_normalized\n",
    "\n",
    "print(\"label shape\",lbl_normalized.shape)\n",
    "print(\"data shape\",data_normalized.shape)"
   ]
  },
  {
   "cell_type": "code",
   "execution_count": 7,
   "id": "banner-yesterday",
   "metadata": {},
   "outputs": [
    {
     "data": {
      "text/plain": [
       "array([[0.51038549],\n",
       "       [0.51033829],\n",
       "       [0.51027844],\n",
       "       ...,\n",
       "       [0.45053204],\n",
       "       [0.45108378],\n",
       "       [0.45159611]])"
      ]
     },
     "execution_count": 7,
     "metadata": {},
     "output_type": "execute_result"
    }
   ],
   "source": [
    "data_normalized"
   ]
  },
  {
   "cell_type": "markdown",
   "id": "differential-spencer",
   "metadata": {
    "id": "xec9hcxVQAmU"
   },
   "source": [
    "# **create  time series data**"
   ]
  },
  {
   "cell_type": "code",
   "execution_count": 8,
   "id": "incorporate-utilization",
   "metadata": {},
   "outputs": [
    {
     "name": "stdout",
     "output_type": "stream",
     "text": [
      "(2862089, 30, 1)\n",
      "(2862089,)\n"
     ]
    }
   ],
   "source": [
    "window_size= 30\n",
    "nfeature=data_normalized.shape[1]\n",
    "\n",
    "X=[]\n",
    "y=[]\n",
    "for i in range(len(data_normalized)-window_size):\n",
    "    t=[]\n",
    "    for j in range(0,window_size):\n",
    "        t.append(data_normalized[[(i+j)], :])\n",
    "    X.append(t)\n",
    "    y.append(lbl_normalized[i+ window_size])\n",
    "\n",
    "\n",
    "data_time_window, lbl_time_window= np.array(X), np.array(y)\n",
    "data_time_window= data_time_window.reshape(data_time_window.shape[0],window_size, nfeature)\n",
    "print(data_time_window.shape)\n",
    "print(lbl_time_window.shape)"
   ]
  },
  {
   "cell_type": "code",
   "execution_count": 9,
   "id": "danish-software",
   "metadata": {},
   "outputs": [
    {
     "data": {
      "text/plain": [
       "array([[[0.51033829],\n",
       "        [0.51027844],\n",
       "        [0.51020658],\n",
       "        [0.49385009],\n",
       "        [0.49387301],\n",
       "        [0.49387567],\n",
       "        [0.49386998],\n",
       "        [0.49385156],\n",
       "        [0.49381957],\n",
       "        [0.49377448],\n",
       "        [0.49372307],\n",
       "        [0.49366313],\n",
       "        [0.49359631],\n",
       "        [0.49352171],\n",
       "        [0.49340586],\n",
       "        [0.49328305],\n",
       "        [0.49313897],\n",
       "        [0.49299966],\n",
       "        [0.49286677],\n",
       "        [0.49274212],\n",
       "        [0.49262664],\n",
       "        [0.49252399],\n",
       "        [0.49243967],\n",
       "        [0.49238285],\n",
       "        [0.49235077],\n",
       "        [0.49227286],\n",
       "        [0.49220504],\n",
       "        [0.49216563],\n",
       "        [0.4921473 ],\n",
       "        [0.49216105]],\n",
       "\n",
       "       [[0.51027844],\n",
       "        [0.51020658],\n",
       "        [0.49385009],\n",
       "        [0.49387301],\n",
       "        [0.49387567],\n",
       "        [0.49386998],\n",
       "        [0.49385156],\n",
       "        [0.49381957],\n",
       "        [0.49377448],\n",
       "        [0.49372307],\n",
       "        [0.49366313],\n",
       "        [0.49359631],\n",
       "        [0.49352171],\n",
       "        [0.49340586],\n",
       "        [0.49328305],\n",
       "        [0.49313897],\n",
       "        [0.49299966],\n",
       "        [0.49286677],\n",
       "        [0.49274212],\n",
       "        [0.49262664],\n",
       "        [0.49252399],\n",
       "        [0.49243967],\n",
       "        [0.49238285],\n",
       "        [0.49235077],\n",
       "        [0.49227286],\n",
       "        [0.49220504],\n",
       "        [0.49216563],\n",
       "        [0.4921473 ],\n",
       "        [0.49216105],\n",
       "        [0.49219954]],\n",
       "\n",
       "       [[0.51020658],\n",
       "        [0.49385009],\n",
       "        [0.49387301],\n",
       "        [0.49387567],\n",
       "        [0.49386998],\n",
       "        [0.49385156],\n",
       "        [0.49381957],\n",
       "        [0.49377448],\n",
       "        [0.49372307],\n",
       "        [0.49366313],\n",
       "        [0.49359631],\n",
       "        [0.49352171],\n",
       "        [0.49340586],\n",
       "        [0.49328305],\n",
       "        [0.49313897],\n",
       "        [0.49299966],\n",
       "        [0.49286677],\n",
       "        [0.49274212],\n",
       "        [0.49262664],\n",
       "        [0.49252399],\n",
       "        [0.49243967],\n",
       "        [0.49238285],\n",
       "        [0.49235077],\n",
       "        [0.49227286],\n",
       "        [0.49220504],\n",
       "        [0.49216563],\n",
       "        [0.4921473 ],\n",
       "        [0.49216105],\n",
       "        [0.49219954],\n",
       "        [0.4922637 ]],\n",
       "\n",
       "       [[0.49385009],\n",
       "        [0.49387301],\n",
       "        [0.49387567],\n",
       "        [0.49386998],\n",
       "        [0.49385156],\n",
       "        [0.49381957],\n",
       "        [0.49377448],\n",
       "        [0.49372307],\n",
       "        [0.49366313],\n",
       "        [0.49359631],\n",
       "        [0.49352171],\n",
       "        [0.49340586],\n",
       "        [0.49328305],\n",
       "        [0.49313897],\n",
       "        [0.49299966],\n",
       "        [0.49286677],\n",
       "        [0.49274212],\n",
       "        [0.49262664],\n",
       "        [0.49252399],\n",
       "        [0.49243967],\n",
       "        [0.49238285],\n",
       "        [0.49235077],\n",
       "        [0.49227286],\n",
       "        [0.49220504],\n",
       "        [0.49216563],\n",
       "        [0.4921473 ],\n",
       "        [0.49216105],\n",
       "        [0.49219954],\n",
       "        [0.4922637 ],\n",
       "        [0.49235077]],\n",
       "\n",
       "       [[0.49387301],\n",
       "        [0.49387567],\n",
       "        [0.49386998],\n",
       "        [0.49385156],\n",
       "        [0.49381957],\n",
       "        [0.49377448],\n",
       "        [0.49372307],\n",
       "        [0.49366313],\n",
       "        [0.49359631],\n",
       "        [0.49352171],\n",
       "        [0.49340586],\n",
       "        [0.49328305],\n",
       "        [0.49313897],\n",
       "        [0.49299966],\n",
       "        [0.49286677],\n",
       "        [0.49274212],\n",
       "        [0.49262664],\n",
       "        [0.49252399],\n",
       "        [0.49243967],\n",
       "        [0.49238285],\n",
       "        [0.49235077],\n",
       "        [0.49227286],\n",
       "        [0.49220504],\n",
       "        [0.49216563],\n",
       "        [0.4921473 ],\n",
       "        [0.49216105],\n",
       "        [0.49219954],\n",
       "        [0.4922637 ],\n",
       "        [0.49235077],\n",
       "        [0.49247083]],\n",
       "\n",
       "       [[0.49387567],\n",
       "        [0.49386998],\n",
       "        [0.49385156],\n",
       "        [0.49381957],\n",
       "        [0.49377448],\n",
       "        [0.49372307],\n",
       "        [0.49366313],\n",
       "        [0.49359631],\n",
       "        [0.49352171],\n",
       "        [0.49340586],\n",
       "        [0.49328305],\n",
       "        [0.49313897],\n",
       "        [0.49299966],\n",
       "        [0.49286677],\n",
       "        [0.49274212],\n",
       "        [0.49262664],\n",
       "        [0.49252399],\n",
       "        [0.49243967],\n",
       "        [0.49238285],\n",
       "        [0.49235077],\n",
       "        [0.49227286],\n",
       "        [0.49220504],\n",
       "        [0.49216563],\n",
       "        [0.4921473 ],\n",
       "        [0.49216105],\n",
       "        [0.49219954],\n",
       "        [0.4922637 ],\n",
       "        [0.49235077],\n",
       "        [0.49247083],\n",
       "        [0.49261106]],\n",
       "\n",
       "       [[0.49386998],\n",
       "        [0.49385156],\n",
       "        [0.49381957],\n",
       "        [0.49377448],\n",
       "        [0.49372307],\n",
       "        [0.49366313],\n",
       "        [0.49359631],\n",
       "        [0.49352171],\n",
       "        [0.49340586],\n",
       "        [0.49328305],\n",
       "        [0.49313897],\n",
       "        [0.49299966],\n",
       "        [0.49286677],\n",
       "        [0.49274212],\n",
       "        [0.49262664],\n",
       "        [0.49252399],\n",
       "        [0.49243967],\n",
       "        [0.49238285],\n",
       "        [0.49235077],\n",
       "        [0.49227286],\n",
       "        [0.49220504],\n",
       "        [0.49216563],\n",
       "        [0.4921473 ],\n",
       "        [0.49216105],\n",
       "        [0.49219954],\n",
       "        [0.4922637 ],\n",
       "        [0.49235077],\n",
       "        [0.49247083],\n",
       "        [0.49261106],\n",
       "        [0.49273387]],\n",
       "\n",
       "       [[0.49385156],\n",
       "        [0.49381957],\n",
       "        [0.49377448],\n",
       "        [0.49372307],\n",
       "        [0.49366313],\n",
       "        [0.49359631],\n",
       "        [0.49352171],\n",
       "        [0.49340586],\n",
       "        [0.49328305],\n",
       "        [0.49313897],\n",
       "        [0.49299966],\n",
       "        [0.49286677],\n",
       "        [0.49274212],\n",
       "        [0.49262664],\n",
       "        [0.49252399],\n",
       "        [0.49243967],\n",
       "        [0.49238285],\n",
       "        [0.49235077],\n",
       "        [0.49227286],\n",
       "        [0.49220504],\n",
       "        [0.49216563],\n",
       "        [0.4921473 ],\n",
       "        [0.49216105],\n",
       "        [0.49219954],\n",
       "        [0.4922637 ],\n",
       "        [0.49235077],\n",
       "        [0.49247083],\n",
       "        [0.49261106],\n",
       "        [0.49273387],\n",
       "        [0.49285668]],\n",
       "\n",
       "       [[0.49381957],\n",
       "        [0.49377448],\n",
       "        [0.49372307],\n",
       "        [0.49366313],\n",
       "        [0.49359631],\n",
       "        [0.49352171],\n",
       "        [0.49340586],\n",
       "        [0.49328305],\n",
       "        [0.49313897],\n",
       "        [0.49299966],\n",
       "        [0.49286677],\n",
       "        [0.49274212],\n",
       "        [0.49262664],\n",
       "        [0.49252399],\n",
       "        [0.49243967],\n",
       "        [0.49238285],\n",
       "        [0.49235077],\n",
       "        [0.49227286],\n",
       "        [0.49220504],\n",
       "        [0.49216563],\n",
       "        [0.4921473 ],\n",
       "        [0.49216105],\n",
       "        [0.49219954],\n",
       "        [0.4922637 ],\n",
       "        [0.49235077],\n",
       "        [0.49247083],\n",
       "        [0.49261106],\n",
       "        [0.49273387],\n",
       "        [0.49285668],\n",
       "        [0.49300608]]])"
      ]
     },
     "execution_count": 9,
     "metadata": {},
     "output_type": "execute_result"
    }
   ],
   "source": [
    "data_time_window[1:10]"
   ]
  },
  {
   "cell_type": "code",
   "execution_count": 10,
   "id": "crazy-strand",
   "metadata": {},
   "outputs": [
    {
     "data": {
      "text/plain": [
       "array([0.49219954, 0.4922637 , 0.49235077, 0.49247083, 0.49261106,\n",
       "       0.49273387, 0.49285668, 0.49300608, 0.49318269])"
      ]
     },
     "execution_count": 10,
     "metadata": {},
     "output_type": "execute_result"
    }
   ],
   "source": [
    "lbl_time_window[1:10]"
   ]
  },
  {
   "cell_type": "markdown",
   "id": "atomic-making",
   "metadata": {
    "id": "VObvnzHwDe06"
   },
   "source": [
    "# **split data into train and test sets**"
   ]
  },
  {
   "cell_type": "code",
   "execution_count": 11,
   "id": "public-cylinder",
   "metadata": {},
   "outputs": [],
   "source": [
    "#split data to train and test sets\n",
    "train_idx= round(.8 * (data_time_window.shape[0]))\n",
    "train_data=data_time_window[:train_idx,:]\n",
    "train_lbl=lbl_time_window[:train_idx]\n",
    "test_data=data_time_window[train_idx:,:]\n",
    "test_lbl=lbl_time_window[train_idx:]"
   ]
  },
  {
   "cell_type": "code",
   "execution_count": 12,
   "id": "latter-perth",
   "metadata": {},
   "outputs": [
    {
     "name": "stderr",
     "output_type": "stream",
     "text": [
      "2023-03-07 16:43:49.247886: I tensorflow/core/common_runtime/gpu/gpu_device.cc:1510] Created device /job:localhost/replica:0/task:0/device:GPU:0 with 38284 MB memory:  -> device: 0, name: NVIDIA A100-SXM4-40GB, pci bus id: 0000:03:00.0, compute capability: 8.0\n",
      "2023-03-07 16:43:49.250220: I tensorflow/core/common_runtime/gpu/gpu_device.cc:1510] Created device /job:localhost/replica:0/task:0/device:GPU:1 with 38284 MB memory:  -> device: 1, name: NVIDIA A100-SXM4-40GB, pci bus id: 0000:44:00.0, compute capability: 8.0\n",
      "2023-03-07 16:43:49.251827: I tensorflow/core/common_runtime/gpu/gpu_device.cc:1510] Created device /job:localhost/replica:0/task:0/device:GPU:2 with 38284 MB memory:  -> device: 2, name: NVIDIA A100-SXM4-40GB, pci bus id: 0000:84:00.0, compute capability: 8.0\n",
      "2023-03-07 16:43:49.253530: I tensorflow/core/common_runtime/gpu/gpu_device.cc:1510] Created device /job:localhost/replica:0/task:0/device:GPU:3 with 38284 MB memory:  -> device: 3, name: NVIDIA A100-SXM4-40GB, pci bus id: 0000:c4:00.0, compute capability: 8.0\n"
     ]
    },
    {
     "name": "stdout",
     "output_type": "stream",
     "text": [
      "INFO:tensorflow:Using MirroredStrategy with devices ('/job:localhost/replica:0/task:0/device:GPU:0', '/job:localhost/replica:0/task:0/device:GPU:1', '/job:localhost/replica:0/task:0/device:GPU:2', '/job:localhost/replica:0/task:0/device:GPU:3')\n"
     ]
    }
   ],
   "source": [
    "# activate below command when use 1 gpu\n",
    "#strategy = tensorflow.distribute.MirroredStrategy([\"/gpu:0\"])\n",
    "# activate below command when use 2 gpus\n",
    "#strategy = tensorflow.distribute.MirroredStrategy([\"/gpu:0\",\"/gpu:1\"])\n",
    "# activate below command when use 3 gpus\n",
    "#strategy = tensorflow.distribute.MirroredStrategy([\"/gpu:0\",\"/gpu:1\",\"/gpu:2\"])\n",
    "# activate below command when use 4 gpus\n",
    "#strategy = tensorflow.distribute.MirroredStrategy([\"/gpu:0\",\"/gpu:1\",\"/gpu:2\",\"/gpu:3\"])"
   ]
  },
  {
   "cell_type": "code",
   "execution_count": 14,
   "id": "secure-compound",
   "metadata": {},
   "outputs": [],
   "source": [
    "my_epoch=50\n",
    "#activate below command when run without GPUs (default of the code)\n",
    "my_batch_size=64\n",
    "#activate below command when run with GPUs\n",
    "#my_batch_size=64 * strategy.num_replicas_in_sync"
   ]
  },
  {
   "cell_type": "markdown",
   "id": "scenic-group",
   "metadata": {},
   "source": [
    "LSTM MODEL"
   ]
  },
  {
   "cell_type": "code",
   "execution_count": 15,
   "id": "cosmetic-yugoslavia",
   "metadata": {},
   "outputs": [
    {
     "name": "stdout",
     "output_type": "stream",
     "text": [
      "INFO:tensorflow:Reduce to /job:localhost/replica:0/task:0/device:CPU:0 then broadcast to ('/job:localhost/replica:0/task:0/device:CPU:0',).\n",
      "INFO:tensorflow:Reduce to /job:localhost/replica:0/task:0/device:CPU:0 then broadcast to ('/job:localhost/replica:0/task:0/device:CPU:0',).\n",
      "INFO:tensorflow:Reduce to /job:localhost/replica:0/task:0/device:CPU:0 then broadcast to ('/job:localhost/replica:0/task:0/device:CPU:0',).\n",
      "INFO:tensorflow:Reduce to /job:localhost/replica:0/task:0/device:CPU:0 then broadcast to ('/job:localhost/replica:0/task:0/device:CPU:0',).\n",
      "INFO:tensorflow:Reduce to /job:localhost/replica:0/task:0/device:CPU:0 then broadcast to ('/job:localhost/replica:0/task:0/device:CPU:0',).\n",
      "INFO:tensorflow:Reduce to /job:localhost/replica:0/task:0/device:CPU:0 then broadcast to ('/job:localhost/replica:0/task:0/device:CPU:0',).\n",
      "INFO:tensorflow:Reduce to /job:localhost/replica:0/task:0/device:CPU:0 then broadcast to ('/job:localhost/replica:0/task:0/device:CPU:0',).\n",
      "INFO:tensorflow:Reduce to /job:localhost/replica:0/task:0/device:CPU:0 then broadcast to ('/job:localhost/replica:0/task:0/device:CPU:0',).\n",
      "Model: \"sequential\"\n",
      "_________________________________________________________________\n",
      "Layer (type)                 Output Shape              Param #   \n",
      "=================================================================\n",
      "lstm (LSTM)                  (None, 100)               40800     \n",
      "_________________________________________________________________\n",
      "dense (Dense)                (None, 1)                 101       \n",
      "=================================================================\n",
      "Total params: 40,901\n",
      "Trainable params: 40,901\n",
      "Non-trainable params: 0\n",
      "_________________________________________________________________\n",
      "('You must install pydot (`pip install pydot`) and install graphviz (see instructions at https://graphviz.gitlab.io/download/) ', 'for plot_model/model_to_dot to work.')\n"
     ]
    }
   ],
   "source": [
    "with strategy.scope():\n",
    "    lstm_win_model = keras.models.Sequential()\n",
    "    lstm_win_model.add(keras.layers.LSTM(units=100, input_shape=(data_time_window.shape[1],nfeature)))\n",
    "    lstm_win_model.add(keras.layers.Dense(units=1 ))\n",
    "    lstm_win_model.compile(optimizer=\"Adam\",loss=keras.losses.mean_squared_error,metrics=tensorflow.metrics.MeanAbsoluteError())\n",
    "    lstm_win_model.summary()\n",
    "    keras.utils.vis_utils.plot_model(lstm_win_model)"
   ]
  },
  {
   "cell_type": "code",
   "execution_count": 16,
   "id": "metric-gauge",
   "metadata": {},
   "outputs": [
    {
     "name": "stderr",
     "output_type": "stream",
     "text": [
      "2022-11-14 02:49:52.000657: W tensorflow/core/grappler/optimizers/data/auto_shard.cc:695] AUTO sharding policy will apply DATA sharding policy as it failed to apply FILE sharding policy because of the following reason: Did not find a shardable source, walked to a node which is not a dataset: name: \"FlatMapDataset/_9\"\n",
      "op: \"FlatMapDataset\"\n",
      "input: \"PrefetchDataset/_8\"\n",
      "attr {\n",
      "  key: \"Targuments\"\n",
      "  value {\n",
      "    list {\n",
      "    }\n",
      "  }\n",
      "}\n",
      "attr {\n",
      "  key: \"f\"\n",
      "  value {\n",
      "    func {\n",
      "      name: \"__inference_Dataset_flat_map_slice_batch_indices_833\"\n",
      "    }\n",
      "  }\n",
      "}\n",
      "attr {\n",
      "  key: \"output_shapes\"\n",
      "  value {\n",
      "    list {\n",
      "      shape {\n",
      "        dim {\n",
      "          size: -1\n",
      "        }\n",
      "      }\n",
      "    }\n",
      "  }\n",
      "}\n",
      "attr {\n",
      "  key: \"output_types\"\n",
      "  value {\n",
      "    list {\n",
      "      type: DT_INT64\n",
      "    }\n",
      "  }\n",
      "}\n",
      ". Consider either turning off auto-sharding or switching the auto_shard_policy to DATA to shard this dataset. You can do this by creating a new `tf.data.Options()` object then setting `options.experimental_distribute.auto_shard_policy = AutoShardPolicy.DATA` before applying the options object to the dataset via `dataset.with_options(options)`.\n",
      "2022-11-14 02:49:52.920479: I tensorflow/compiler/mlir/mlir_graph_optimization_pass.cc:185] None of the MLIR Optimization Passes are enabled (registered 2)\n"
     ]
    },
    {
     "name": "stdout",
     "output_type": "stream",
     "text": [
      "Epoch 1/50\n",
      "INFO:tensorflow:batch_all_reduce: 5 all-reduces with algorithm = nccl, num_packs = 1\n",
      "INFO:tensorflow:Reduce to /job:localhost/replica:0/task:0/device:CPU:0 then broadcast to ('/job:localhost/replica:0/task:0/device:CPU:0',).\n",
      "INFO:tensorflow:Reduce to /job:localhost/replica:0/task:0/device:CPU:0 then broadcast to ('/job:localhost/replica:0/task:0/device:CPU:0',).\n",
      "INFO:tensorflow:batch_all_reduce: 5 all-reduces with algorithm = nccl, num_packs = 1\n"
     ]
    },
    {
     "name": "stderr",
     "output_type": "stream",
     "text": [
      "2022-11-14 02:50:02.456070: I tensorflow/stream_executor/cuda/cuda_dnn.cc:369] Loaded cuDNN version 8301\n",
      "2022-11-14 02:50:03.452619: I tensorflow/stream_executor/cuda/cuda_dnn.cc:369] Loaded cuDNN version 8301\n",
      "2022-11-14 02:50:03.590228: I tensorflow/stream_executor/cuda/cuda_blas.cc:1760] TensorFloat-32 will be used for the matrix multiplication. This will only be logged once.\n",
      "2022-11-14 02:50:04.396170: I tensorflow/stream_executor/cuda/cuda_dnn.cc:369] Loaded cuDNN version 8301\n",
      "2022-11-14 02:50:04.881728: I tensorflow/stream_executor/cuda/cuda_dnn.cc:369] Loaded cuDNN version 8301\n"
     ]
    },
    {
     "name": "stdout",
     "output_type": "stream",
     "text": [
      "196/196 [==============================] - 15s 5ms/step - loss: 0.0070 - mean_absolute_error: 0.0521\n",
      "Epoch 2/50\n",
      "196/196 [==============================] - 1s 5ms/step - loss: 0.0029 - mean_absolute_error: 0.0383\n",
      "Epoch 3/50\n",
      "196/196 [==============================] - 1s 5ms/step - loss: 0.0028 - mean_absolute_error: 0.0374\n",
      "Epoch 4/50\n",
      "196/196 [==============================] - 1s 5ms/step - loss: 0.0026 - mean_absolute_error: 0.0362\n",
      "Epoch 5/50\n",
      "196/196 [==============================] - 1s 5ms/step - loss: 0.0024 - mean_absolute_error: 0.0349\n",
      "Epoch 6/50\n",
      "196/196 [==============================] - 1s 5ms/step - loss: 0.0022 - mean_absolute_error: 0.0340\n",
      "Epoch 7/50\n",
      "196/196 [==============================] - 1s 5ms/step - loss: 0.0022 - mean_absolute_error: 0.0339\n",
      "Epoch 8/50\n",
      "196/196 [==============================] - 1s 5ms/step - loss: 0.0021 - mean_absolute_error: 0.0334\n",
      "Epoch 9/50\n",
      "196/196 [==============================] - 1s 5ms/step - loss: 0.0021 - mean_absolute_error: 0.0334\n",
      "Epoch 10/50\n",
      "196/196 [==============================] - 1s 5ms/step - loss: 0.0021 - mean_absolute_error: 0.0334\n",
      "Epoch 11/50\n",
      "196/196 [==============================] - 1s 5ms/step - loss: 0.0021 - mean_absolute_error: 0.0332\n",
      "Epoch 12/50\n",
      "196/196 [==============================] - 1s 5ms/step - loss: 0.0021 - mean_absolute_error: 0.0332\n",
      "Epoch 13/50\n",
      "196/196 [==============================] - 1s 5ms/step - loss: 0.0021 - mean_absolute_error: 0.0333\n",
      "Epoch 14/50\n",
      "196/196 [==============================] - 1s 5ms/step - loss: 0.0021 - mean_absolute_error: 0.0333\n",
      "Epoch 15/50\n",
      "196/196 [==============================] - 1s 5ms/step - loss: 0.0021 - mean_absolute_error: 0.0332\n",
      "Epoch 16/50\n",
      "196/196 [==============================] - 1s 5ms/step - loss: 0.0021 - mean_absolute_error: 0.0333\n",
      "Epoch 17/50\n",
      "196/196 [==============================] - 1s 5ms/step - loss: 0.0021 - mean_absolute_error: 0.0332\n",
      "Epoch 18/50\n",
      "196/196 [==============================] - 1s 5ms/step - loss: 0.0021 - mean_absolute_error: 0.0332\n",
      "Epoch 19/50\n",
      "196/196 [==============================] - 1s 5ms/step - loss: 0.0021 - mean_absolute_error: 0.0332\n",
      "Epoch 20/50\n",
      "196/196 [==============================] - 1s 5ms/step - loss: 0.0021 - mean_absolute_error: 0.0331\n",
      "Epoch 21/50\n",
      "196/196 [==============================] - 1s 5ms/step - loss: 0.0021 - mean_absolute_error: 0.0332\n",
      "Epoch 22/50\n",
      "196/196 [==============================] - 1s 5ms/step - loss: 0.0021 - mean_absolute_error: 0.0332\n",
      "Epoch 23/50\n",
      "196/196 [==============================] - 1s 5ms/step - loss: 0.0021 - mean_absolute_error: 0.0332\n",
      "Epoch 24/50\n",
      "196/196 [==============================] - 1s 5ms/step - loss: 0.0021 - mean_absolute_error: 0.0331\n",
      "Epoch 25/50\n",
      "196/196 [==============================] - 1s 5ms/step - loss: 0.0021 - mean_absolute_error: 0.0331\n",
      "Epoch 26/50\n",
      "196/196 [==============================] - 1s 5ms/step - loss: 0.0021 - mean_absolute_error: 0.0332\n",
      "Epoch 27/50\n",
      "196/196 [==============================] - 1s 5ms/step - loss: 0.0021 - mean_absolute_error: 0.0331\n",
      "Epoch 28/50\n",
      "196/196 [==============================] - 1s 5ms/step - loss: 0.0021 - mean_absolute_error: 0.0332\n",
      "Epoch 29/50\n",
      "196/196 [==============================] - 1s 5ms/step - loss: 0.0021 - mean_absolute_error: 0.0331\n",
      "Epoch 30/50\n",
      "196/196 [==============================] - 1s 5ms/step - loss: 0.0021 - mean_absolute_error: 0.0331\n",
      "Epoch 31/50\n",
      "196/196 [==============================] - 1s 5ms/step - loss: 0.0021 - mean_absolute_error: 0.0332\n",
      "Epoch 32/50\n",
      "196/196 [==============================] - 1s 5ms/step - loss: 0.0021 - mean_absolute_error: 0.0331\n",
      "Epoch 33/50\n",
      "196/196 [==============================] - 1s 5ms/step - loss: 0.0021 - mean_absolute_error: 0.0331\n",
      "Epoch 34/50\n",
      "196/196 [==============================] - 1s 5ms/step - loss: 0.0021 - mean_absolute_error: 0.0331\n",
      "Epoch 35/50\n",
      "196/196 [==============================] - 1s 5ms/step - loss: 0.0021 - mean_absolute_error: 0.0331\n",
      "Epoch 36/50\n",
      "196/196 [==============================] - 1s 5ms/step - loss: 0.0021 - mean_absolute_error: 0.0331\n",
      "Epoch 37/50\n",
      "196/196 [==============================] - 1s 5ms/step - loss: 0.0021 - mean_absolute_error: 0.0330\n",
      "Epoch 38/50\n",
      "196/196 [==============================] - 1s 5ms/step - loss: 0.0021 - mean_absolute_error: 0.0330\n",
      "Epoch 39/50\n",
      "196/196 [==============================] - 1s 5ms/step - loss: 0.0021 - mean_absolute_error: 0.0330\n",
      "Epoch 40/50\n",
      "196/196 [==============================] - 1s 5ms/step - loss: 0.0021 - mean_absolute_error: 0.0330\n",
      "Epoch 41/50\n",
      "196/196 [==============================] - 1s 5ms/step - loss: 0.0021 - mean_absolute_error: 0.0329\n",
      "Epoch 42/50\n",
      "196/196 [==============================] - 1s 5ms/step - loss: 0.0021 - mean_absolute_error: 0.0329\n",
      "Epoch 43/50\n",
      "196/196 [==============================] - 1s 5ms/step - loss: 0.0021 - mean_absolute_error: 0.0329\n",
      "Epoch 44/50\n",
      "196/196 [==============================] - 1s 5ms/step - loss: 0.0021 - mean_absolute_error: 0.0329\n",
      "Epoch 45/50\n",
      "196/196 [==============================] - 1s 5ms/step - loss: 0.0021 - mean_absolute_error: 0.0329\n",
      "Epoch 46/50\n",
      "196/196 [==============================] - 1s 5ms/step - loss: 0.0021 - mean_absolute_error: 0.0329\n",
      "Epoch 47/50\n",
      "196/196 [==============================] - 1s 5ms/step - loss: 0.0021 - mean_absolute_error: 0.0329\n",
      "Epoch 48/50\n",
      "196/196 [==============================] - 1s 5ms/step - loss: 0.0021 - mean_absolute_error: 0.0329\n",
      "Epoch 49/50\n",
      "196/196 [==============================] - 1s 5ms/step - loss: 0.0021 - mean_absolute_error: 0.0329\n",
      "Epoch 50/50\n",
      "196/196 [==============================] - 1s 5ms/step - loss: 0.0021 - mean_absolute_error: 0.0328\n",
      "Execution time in seconds: 63.06018543243408\n"
     ]
    }
   ],
   "source": [
    "import time\n",
    "startTime = time.time()\n",
    "\n",
    "lstm_win_model_hist=lstm_win_model.fit(train_data,train_lbl,epochs=my_epoch,batch_size=my_batch_size)\n",
    "\n",
    "executionTime = (time.time() - startTime)\n",
    "print('Execution time in seconds: ' + str(executionTime))"
   ]
  },
  {
   "cell_type": "code",
   "execution_count": 17,
   "id": "physical-salvation",
   "metadata": {},
   "outputs": [
    {
     "data": {
      "image/png": "[encoded data removed]",
      "text/plain": [
       "<Figure size 720x576 with 1 Axes>"
      ]
     },
     "metadata": {
      "needs_background": "light"
     },
     "output_type": "display_data"
    },
    {
     "data": {
      "image/png": "[encoded data removed]",
      "text/plain": [
       "<Figure size 720x576 with 1 Axes>"
      ]
     },
     "metadata": {
      "needs_background": "light"
     },
     "output_type": "display_data"
    }
   ],
   "source": [
    "MAE = lstm_win_model_hist.history['mean_absolute_error']\n",
    "loss = lstm_win_model_hist.history['loss']\n",
    "\n",
    "plt.figure(figsize=(10,8))\n",
    "plt.plot(range(my_epoch), loss, label='training loss')\n",
    "plt.legend(loc='upper right')\n",
    "plt.title('Training loss ')\n",
    "plt.xlabel(\"Epoch\")\n",
    "plt.ylabel(\"Loss\")\n",
    "plt.savefig('Training_loss_LSTM.png')\n",
    "plt.show()\n",
    "plt.figure(figsize=(10,8))\n",
    "plt.plot(range(my_epoch), MAE, label='training MAE' )\n",
    "plt.legend(loc='upper right')\n",
    "plt.title('Training MAE')\n",
    "plt.savefig('Training_MAE_LSTM.png')\n",
    "plt.show()"
   ]
  },
  {
   "cell_type": "code",
   "execution_count": 20,
   "id": "resident-feeling",
   "metadata": {},
   "outputs": [
    {
     "name": "stderr",
     "output_type": "stream",
     "text": [
      "2022-11-14 02:53:55.555284: W tensorflow/core/grappler/optimizers/data/auto_shard.cc:695] AUTO sharding policy will apply DATA sharding policy as it failed to apply FILE sharding policy because of the following reason: Did not find a shardable source, walked to a node which is not a dataset: name: \"FlatMapDataset/_9\"\n",
      "op: \"FlatMapDataset\"\n",
      "input: \"PrefetchDataset/_8\"\n",
      "attr {\n",
      "  key: \"Targuments\"\n",
      "  value {\n",
      "    list {\n",
      "    }\n",
      "  }\n",
      "}\n",
      "attr {\n",
      "  key: \"f\"\n",
      "  value {\n",
      "    func {\n",
      "      name: \"__inference_Dataset_flat_map_slice_batch_indices_97799\"\n",
      "    }\n",
      "  }\n",
      "}\n",
      "attr {\n",
      "  key: \"output_shapes\"\n",
      "  value {\n",
      "    list {\n",
      "      shape {\n",
      "        dim {\n",
      "          size: -1\n",
      "        }\n",
      "      }\n",
      "    }\n",
      "  }\n",
      "}\n",
      "attr {\n",
      "  key: \"output_types\"\n",
      "  value {\n",
      "    list {\n",
      "      type: DT_INT64\n",
      "    }\n",
      "  }\n",
      "}\n",
      ". Consider either turning off auto-sharding or switching the auto_shard_policy to DATA to shard this dataset. You can do this by creating a new `tf.data.Options()` object then setting `options.experimental_distribute.auto_shard_policy = AutoShardPolicy.DATA` before applying the options object to the dataset via `dataset.with_options(options)`.\n"
     ]
    },
    {
     "name": "stdout",
     "output_type": "stream",
     "text": [
      "6250/6250 - 12s\n"
     ]
    },
    {
     "name": "stderr",
     "output_type": "stream",
     "text": [
      "2022-11-14 02:54:08.163886: W tensorflow/core/grappler/optimizers/data/auto_shard.cc:695] AUTO sharding policy will apply DATA sharding policy as it failed to apply FILE sharding policy because of the following reason: Did not find a shardable source, walked to a node which is not a dataset: name: \"FlatMapDataset/_9\"\n",
      "op: \"FlatMapDataset\"\n",
      "input: \"PrefetchDataset/_8\"\n",
      "attr {\n",
      "  key: \"Targuments\"\n",
      "  value {\n",
      "    list {\n",
      "    }\n",
      "  }\n",
      "}\n",
      "attr {\n",
      "  key: \"f\"\n",
      "  value {\n",
      "    func {\n",
      "      name: \"__inference_Dataset_flat_map_slice_batch_indices_104315\"\n",
      "    }\n",
      "  }\n",
      "}\n",
      "attr {\n",
      "  key: \"output_shapes\"\n",
      "  value {\n",
      "    list {\n",
      "      shape {\n",
      "        dim {\n",
      "          size: -1\n",
      "        }\n",
      "      }\n",
      "    }\n",
      "  }\n",
      "}\n",
      "attr {\n",
      "  key: \"output_types\"\n",
      "  value {\n",
      "    list {\n",
      "      type: DT_INT64\n",
      "    }\n",
      "  }\n",
      "}\n",
      ". Consider either turning off auto-sharding or switching the auto_shard_policy to DATA to shard this dataset. You can do this by creating a new `tf.data.Options()` object then setting `options.experimental_distribute.auto_shard_policy = AutoShardPolicy.DATA` before applying the options object to the dataset via `dataset.with_options(options)`.\n"
     ]
    },
    {
     "name": "stdout",
     "output_type": "stream",
     "text": [
      "25000/25000 - 49s\n",
      "Mean squared error (MSE): 0.002 \n",
      "Root mean square error (RMSE) : 0.049 \n",
      "Mean Absolute Error (MAE): 0.036\n",
      "R2 Score 0.5676417087995085\n"
     ]
    }
   ],
   "source": [
    "y_pred_lstm_win=lstm_win_model.predict(test_data,verbose=2)\n",
    "train_pred_lstm_win=lstm_win_model.predict(train_data,verbose=2)\n",
    "mse=metrics.mean_squared_error(test_lbl, y_pred_lstm_win)\n",
    "rmse=metrics.mean_squared_error(test_lbl, y_pred_lstm_win,squared=False)\n",
    "mae= metrics.mean_absolute_error(test_lbl,y_pred_lstm_win)\n",
    "Rep = open(\"error_report_LSTM.txt\", \"w+\")\n",
    "Rep.write('Mean squared error (MSE): %.3f ' % mse)  \n",
    "Rep.write('Root mean square error (RMSE) : %.3f '%rmse) \n",
    "Rep.write('Mean Absolute Error (MAE): %.3f'%mae)\n",
    "Rep.write('R2 Score: %.9f ' %r2_score(test_lbl,y_pred_lstm_win))\n",
    "Rep.close()\n",
    "print('Mean squared error (MSE): %.3f ' % mse)  \n",
    "print('Root mean square error (RMSE) : %.3f '%rmse) \n",
    "print('Mean Absolute Error (MAE): %.3f'%mae)\n",
    "print(\"R2 Score\",r2_score(test_lbl,y_pred_lstm_win))"
   ]
  },
  {
   "cell_type": "code",
   "execution_count": null,
   "id": "religious-links",
   "metadata": {},
   "outputs": [],
   "source": []
  }
 ],
 "metadata": {
  "kernelspec": {
   "display_name": "kernel_cfd",
   "language": "python",
   "name": "kernel_cfd"
  },
  "language_info": {
   "codemirror_mode": {
    "name": "ipython",
    "version": 3
   },
   "file_extension": ".py",
   "mimetype": "text/x-python",
   "name": "python",
   "nbconvert_exporter": "python",
   "pygments_lexer": "ipython3",
   "version": "3.9.6"
  }
 },
 "nbformat": 4,
 "nbformat_minor": 5
}
